{
  "nbformat": 4,
  "nbformat_minor": 0,
  "metadata": {
    "colab": {
      "private_outputs": true,
      "provenance": [],
      "include_colab_link": true
    },
    "kernelspec": {
      "name": "python3",
      "display_name": "Python 3"
    },
    "language_info": {
      "name": "python"
    }
  },
  "cells": [
    {
      "cell_type": "markdown",
      "metadata": {
        "id": "view-in-github",
        "colab_type": "text"
      },
      "source": [
        "<a href=\"https://colab.research.google.com/github/eng-akash/machine-learning-class-projects/blob/main/Lab_1_MLR.ipynb\" target=\"_parent\"><img src=\"https://colab.research.google.com/assets/colab-badge.svg\" alt=\"Open In Colab\"/></a>"
      ]
    },
    {
      "cell_type": "markdown",
      "source": [
        "#DAY 01 FOR NEW PROJECT"
      ],
      "metadata": {
        "id": "iDNpe4GBLw4b"
      }
    },
    {
      "cell_type": "code",
      "source": [
        "pip install word2number"
      ],
      "metadata": {
        "id": "50kX39FIZOy7"
      },
      "execution_count": null,
      "outputs": []
    },
    {
      "cell_type": "code",
      "execution_count": null,
      "metadata": {
        "id": "gZ2atEB9YBjp"
      },
      "outputs": [],
      "source": [
        "import pandas as pd\n",
        "import numpy as np\n",
        "from sklearn import linear_model\n",
        "from word2number import w2n"
      ]
    },
    {
      "cell_type": "code",
      "source": [
        "df = pd.read_csv(\"/content/hiring.csv\")\n",
        "df"
      ],
      "metadata": {
        "id": "D6yWzN-aYGSG"
      },
      "execution_count": null,
      "outputs": []
    },
    {
      "cell_type": "code",
      "source": [
        "df.experience = df.experience.fillna(\"zero\")\n",
        "df"
      ],
      "metadata": {
        "id": "-EznS5p2Zcim"
      },
      "execution_count": null,
      "outputs": []
    },
    {
      "cell_type": "code",
      "source": [
        "df.experience = df.experience.apply(w2n.word_to_num)\n",
        "df"
      ],
      "metadata": {
        "id": "QrDCBcsPZi81"
      },
      "execution_count": null,
      "outputs": []
    },
    {
      "cell_type": "code",
      "source": [
        "import math\n",
        "median_test_score = math.floor(df['test_score(out of 10)'].mean())\n",
        "median_test_score"
      ],
      "metadata": {
        "id": "XN-VUZXnZmtU"
      },
      "execution_count": null,
      "outputs": []
    },
    {
      "cell_type": "code",
      "source": [
        "df['test_score(out of 10)'] = df['test_score(out of 10)'].fillna(median_test_score)\n",
        "df"
      ],
      "metadata": {
        "id": "TZyUX802ZwTx"
      },
      "execution_count": null,
      "outputs": []
    },
    {
      "cell_type": "code",
      "source": [
        "reg = linear_model.LinearRegression()\n",
        "reg.fit(df[['experience','test_score(out of 10)','interview_score(out of 10)']],df['salary($)'])"
      ],
      "metadata": {
        "id": "1sWyECNhZ0uf"
      },
      "execution_count": null,
      "outputs": []
    },
    {
      "cell_type": "code",
      "source": [
        "reg.predict([[12,10,10]])"
      ],
      "metadata": {
        "id": "5iRErkfAZ75-"
      },
      "execution_count": null,
      "outputs": []
    },
    {
      "cell_type": "code",
      "source": [
        "reg.predict([[12,10,10]])"
      ],
      "metadata": {
        "id": "L1N2k6iUaBgW"
      },
      "execution_count": null,
      "outputs": []
    },
    {
      "cell_type": "code",
      "source": [
        "from sklearn.metrics import mean_squared_error\n"
      ],
      "metadata": {
        "id": "880ym_qhHN-i"
      },
      "execution_count": null,
      "outputs": []
    },
    {
      "cell_type": "code",
      "source": [
        "y_true = df['salary($)']\n",
        "y_pred = reg.predict(df[['experience', 'test_score(out of 10)', 'interview_score(out of 10)']])"
      ],
      "metadata": {
        "id": "GMS5hiRtKrxj"
      },
      "execution_count": null,
      "outputs": []
    },
    {
      "cell_type": "code",
      "source": [
        "\n",
        "# Calculate MSE\n",
        "mse = mean_squared_error(y_true, y_pred)\n",
        "print (\"Mean Squared Error:\", mse)"
      ],
      "metadata": {
        "id": "dPN1hK2eKuUp"
      },
      "execution_count": null,
      "outputs": []
    },
    {
      "cell_type": "code",
      "source": [],
      "metadata": {
        "id": "TwlnZ3H8Mrpx"
      },
      "execution_count": null,
      "outputs": []
    }
  ]
}