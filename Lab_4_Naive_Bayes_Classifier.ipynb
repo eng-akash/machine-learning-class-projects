{
  "nbformat": 4,
  "nbformat_minor": 0,
  "metadata": {
    "colab": {
      "private_outputs": true,
      "provenance": [],
      "include_colab_link": true
    },
    "kernelspec": {
      "name": "python3",
      "display_name": "Python 3"
    },
    "language_info": {
      "name": "python"
    }
  },
  "cells": [
    {
      "cell_type": "markdown",
      "metadata": {
        "id": "view-in-github",
        "colab_type": "text"
      },
      "source": [
        "<a href=\"https://colab.research.google.com/github/eng-akash/machine-learning-class-projects/blob/main/Lab_4_Naive_Bayes_Classifier.ipynb\" target=\"_parent\"><img src=\"https://colab.research.google.com/assets/colab-badge.svg\" alt=\"Open In Colab\"/></a>"
      ]
    },
    {
      "cell_type": "code",
      "execution_count": null,
      "metadata": {
        "id": "xgnRaVqIi5aU"
      },
      "outputs": [],
      "source": [
        "import numpy as np\n",
        "import pandas as pd\n",
        "import matplotlib.pyplot as plt\n",
        "import seaborn as sns\n",
        "import os\n",
        "import scipy as sp\n",
        "import warnings\n",
        "warnings.filterwarnings(\"ignore\")\n",
        "%matplotlib inline"
      ]
    },
    {
      "cell_type": "code",
      "source": [
        "data = pd.read_csv('/content/diabetes.csv')"
      ],
      "metadata": {
        "id": "giVm5lGLM11o"
      },
      "execution_count": null,
      "outputs": []
    },
    {
      "cell_type": "code",
      "source": [
        "data.head()"
      ],
      "metadata": {
        "id": "5Pln7R-wM_FP"
      },
      "execution_count": null,
      "outputs": []
    },
    {
      "cell_type": "code",
      "source": [
        "data.describe()"
      ],
      "metadata": {
        "id": "-DZy2h1MNCjd"
      },
      "execution_count": null,
      "outputs": []
    },
    {
      "cell_type": "code",
      "source": [
        "data.info()"
      ],
      "metadata": {
        "id": "Nxb6GmdpNHlw"
      },
      "execution_count": null,
      "outputs": []
    },
    {
      "cell_type": "code",
      "source": [
        "data.shape"
      ],
      "metadata": {
        "id": "OUuRhbNONLQU"
      },
      "execution_count": null,
      "outputs": []
    },
    {
      "cell_type": "code",
      "source": [
        "data.value_counts()"
      ],
      "metadata": {
        "id": "XbmOxtyKNNPS"
      },
      "execution_count": null,
      "outputs": []
    },
    {
      "cell_type": "code",
      "source": [
        "data.dtypes"
      ],
      "metadata": {
        "id": "SIdvEwc1NR9o"
      },
      "execution_count": null,
      "outputs": []
    },
    {
      "cell_type": "code",
      "source": [
        "data.columns"
      ],
      "metadata": {
        "id": "afP48jOgNUMe"
      },
      "execution_count": null,
      "outputs": []
    },
    {
      "cell_type": "code",
      "source": [
        "data.isnull().sum()"
      ],
      "metadata": {
        "id": "CYapdbQENWc2"
      },
      "execution_count": null,
      "outputs": []
    },
    {
      "cell_type": "code",
      "source": [
        "data.isnull().any()"
      ],
      "metadata": {
        "id": "F872ma-PNYrO"
      },
      "execution_count": null,
      "outputs": []
    },
    {
      "cell_type": "code",
      "source": [
        "data.corr()"
      ],
      "metadata": {
        "id": "TykiS3-8Najf"
      },
      "execution_count": null,
      "outputs": []
    },
    {
      "cell_type": "code",
      "source": [
        "plt.figure(figsize = (12,10))\n",
        "\n",
        "sns.heatmap(data.corr(), annot =True)"
      ],
      "metadata": {
        "id": "QxlEe_IYNedy"
      },
      "execution_count": null,
      "outputs": []
    },
    {
      "cell_type": "code",
      "source": [
        "data.hist(figsize=(18,12))\n",
        "plt.show()"
      ],
      "metadata": {
        "id": "fhwFdUNPNg0R"
      },
      "execution_count": null,
      "outputs": []
    },
    {
      "cell_type": "code",
      "source": [
        "plt.figure(figsize=(14,10))\n",
        "sns.set_style(style='whitegrid')\n",
        "plt.subplot(2,3,1)\n",
        "sns.boxplot(x='Glucose',data=data)\n",
        "plt.subplot(2,3,2)\n",
        "sns.boxplot(x='BloodPressure',data=data)\n",
        "plt.subplot(2,3,3)\n",
        "sns.boxplot(x='Insulin',data=data)\n",
        "plt.subplot(2,3,4)\n",
        "sns.boxplot(x='BMI',data=data)\n",
        "plt.subplot(2,3,5)\n",
        "sns.boxplot(x='Age',data=data)\n",
        "plt.subplot(2,3,6)\n",
        "sns.boxplot(x='SkinThickness',data=data)"
      ],
      "metadata": {
        "id": "HTYSJXBnNi33"
      },
      "execution_count": null,
      "outputs": []
    },
    {
      "cell_type": "code",
      "source": [
        "mean_col = ['Glucose','BloodPressure','Insulin','Age','Outcome','BMI']\n",
        "\n",
        "sns.pairplot(data[mean_col],palette='Accent')"
      ],
      "metadata": {
        "id": "aGEBxX-mN1M3"
      },
      "execution_count": null,
      "outputs": []
    },
    {
      "cell_type": "code",
      "source": [
        "sns.boxplot(x='Outcome',y='Insulin',data=data)"
      ],
      "metadata": {
        "id": "q0L-l532N5u9"
      },
      "execution_count": null,
      "outputs": []
    },
    {
      "cell_type": "code",
      "source": [
        "sns.pairplot(data,hue='Outcome')"
      ],
      "metadata": {
        "id": "CVKGrmJ6N8MP"
      },
      "execution_count": null,
      "outputs": []
    },
    {
      "cell_type": "code",
      "source": [
        "sns.swarmplot(x='Glucose', y= 'Insulin', data=data)"
      ],
      "metadata": {
        "id": "H1TuG4DzOBxS"
      },
      "execution_count": null,
      "outputs": []
    },
    {
      "cell_type": "code",
      "source": [
        "sns.barplot(x=\"SkinThickness\", y=\"Insulin\", data=data[170:180])\n",
        "plt.title(\"SkinThickness vs Insulin\",fontsize=15)\n",
        "plt.xlabel(\"SkinThickness\")\n",
        "plt.ylabel(\"Insulin\")\n",
        "plt.show()\n",
        "plt.style.use(\"ggplot\")"
      ],
      "metadata": {
        "id": "xMBXJ66YOFco"
      },
      "execution_count": null,
      "outputs": []
    },
    {
      "cell_type": "code",
      "source": [
        "plt.style.use(\"default\")\n",
        "plt.figure(figsize=(5,5))\n",
        "sns.barplot(x=\"Glucose\", y=\"Insulin\", data=data[170:180])\n",
        "plt.title(\"Glucose vs Insulin\",fontsize=15)\n",
        "plt.xlabel(\"Glucose\")\n",
        "plt.ylabel(\"Insulin\")\n",
        "plt.show()\n"
      ],
      "metadata": {
        "id": "8T3GE1fSOH_J"
      },
      "execution_count": null,
      "outputs": []
    },
    {
      "cell_type": "code",
      "source": [
        "# train Test Split\n",
        "x = data.drop(columns = 'Outcome')\n",
        "\n",
        "# Getting Predicting Value\n",
        "y = data['Outcome']\n",
        "\n",
        "from sklearn.model_selection import train_test_split\n",
        "x_train,x_test,y_train,y_test = train_test_split(x,y,test_size=0.2,random_state=0)"
      ],
      "metadata": {
        "id": "_tu4Cr1qOJt9"
      },
      "execution_count": null,
      "outputs": []
    },
    {
      "cell_type": "code",
      "source": [
        "print(len(x_train))\n",
        "print(len(x_test))\n",
        "print(len(y_train))\n",
        "print(len(y_test))"
      ],
      "metadata": {
        "id": "A4sO0u2vONGO"
      },
      "execution_count": null,
      "outputs": []
    },
    {
      "cell_type": "code",
      "source": [
        "from sklearn.naive_bayes import GaussianNB\n",
        "gnb = GaussianNB()\n",
        "gnb.fit(x_train,y_train)"
      ],
      "metadata": {
        "id": "ALHboCKLOUU2"
      },
      "execution_count": null,
      "outputs": []
    },
    {
      "cell_type": "code",
      "source": [
        "y_pred=gnb.predict(x_test)\n"
      ],
      "metadata": {
        "id": "9_RNOO7nOb8q"
      },
      "execution_count": null,
      "outputs": []
    },
    {
      "cell_type": "code",
      "source": [
        "from sklearn.metrics import accuracy_score,classification_report,confusion_matrix\n",
        "from sklearn.metrics import r2_score\n",
        "from sklearn.metrics import mean_squared_error"
      ],
      "metadata": {
        "id": "kFiyCW9nOgAJ"
      },
      "execution_count": null,
      "outputs": []
    },
    {
      "cell_type": "code",
      "source": [
        "print(\"Classification Report is:\\n\",classification_report(y_test,y_pred))\n"
      ],
      "metadata": {
        "id": "YZ8hTtQtOgpe"
      },
      "execution_count": null,
      "outputs": []
    },
    {
      "cell_type": "code",
      "source": [
        "print(\"Confusion Matrix:\\n\",confusion_matrix(y_test,y_pred))\n"
      ],
      "metadata": {
        "id": "CFqFrxFpOjUe"
      },
      "execution_count": null,
      "outputs": []
    },
    {
      "cell_type": "code",
      "source": [
        "print(\"Training Score:\\n\",gnb.score(x_train,y_train)*100)"
      ],
      "metadata": {
        "id": "N9rewVitOq2U"
      },
      "execution_count": null,
      "outputs": []
    },
    {
      "cell_type": "code",
      "source": [
        "print(\"Mean Squared Error:\\n\",mean_squared_error(y_test,y_pred))"
      ],
      "metadata": {
        "id": "XlgtfQpoOraL"
      },
      "execution_count": null,
      "outputs": []
    },
    {
      "cell_type": "code",
      "source": [
        "print(\"R2 score is:\\n\",r2_score(y_test,y_pred))"
      ],
      "metadata": {
        "id": "ZDNw60WSOuD_"
      },
      "execution_count": null,
      "outputs": []
    },
    {
      "cell_type": "code",
      "source": [
        "print(\"Accuracy Score:\\n\",gnb.score(x_train,y_train)*100)\n"
      ],
      "metadata": {
        "id": "m3DZqGHaOxbF"
      },
      "execution_count": null,
      "outputs": []
    }
  ]
}